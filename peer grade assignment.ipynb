{
  "metadata": {
    "kernelspec": {
      "name": "python",
      "display_name": "Pyolite",
      "language": "python"
    },
    "language_info": {
      "codemirror_mode": {
        "name": "python",
        "version": 3
      },
      "file_extension": ".py",
      "mimetype": "text/x-python",
      "name": "python",
      "nbconvert_exporter": "python",
      "pygments_lexer": "ipython3",
      "version": "3.8"
    }
  },
  "nbformat_minor": 4,
  "nbformat": 4,
  "cells": [
    {
      "cell_type": "markdown",
      "source": "H1 My Jupyter Notebook on IBM Watson Studio",
      "metadata": {}
    },
    {
      "cell_type": "markdown",
      "source": "## My name is sankalp\n i am fresher",
      "metadata": {}
    },
    {
      "cell_type": "markdown",
      "source": "I am interested in data science because it is curocitical field and i need more knowledge about data science",
      "metadata": {}
    },
    {
      "cell_type": "markdown",
      "source": "## addition of two number",
      "metadata": {}
    },
    {
      "cell_type": "code",
      "source": "a=1\nb=1\nprint(",
      "metadata": {},
      "execution_count": null,
      "outputs": []
    }
  ]
}